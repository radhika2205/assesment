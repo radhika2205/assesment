{
 "cells": [
  {
   "cell_type": "code",
   "execution_count": 2,
   "id": "d71e8c18-7b0e-474c-9cfa-9153fdaff775",
   "metadata": {},
   "outputs": [
    {
     "name": "stdout",
     "output_type": "stream",
     "text": [
      "\n",
      "=== ATM Card Activation ===\n"
     ]
    },
    {
     "name": "stdin",
     "output_type": "stream",
     "text": [
      "Enter your full name:  hgjx\n",
      "Enter your 10-digit mobile number:  dfg\n"
     ]
    },
    {
     "name": "stdout",
     "output_type": "stream",
     "text": [
      "Invalid mobile number! Please enter 10 digits.\n"
     ]
    },
    {
     "name": "stdin",
     "output_type": "stream",
     "text": [
      "Enter your 10-digit mobile number:  4556\n"
     ]
    },
    {
     "name": "stdout",
     "output_type": "stream",
     "text": [
      "Invalid mobile number! Please enter 10 digits.\n"
     ]
    },
    {
     "name": "stdin",
     "output_type": "stream",
     "text": [
      "Enter your 10-digit mobile number:  78905123343\n"
     ]
    },
    {
     "name": "stdout",
     "output_type": "stream",
     "text": [
      "Invalid mobile number! Please enter 10 digits.\n"
     ]
    },
    {
     "name": "stdin",
     "output_type": "stream",
     "text": [
      "Enter your 10-digit mobile number:  1234567890\n",
      "Create a 4-digit PIN:  1221\n",
      "Re-enter the PIN:  12\n"
     ]
    },
    {
     "name": "stdout",
     "output_type": "stream",
     "text": [
      " PIN mismatch or invalid format! Try again.\n"
     ]
    },
    {
     "name": "stdin",
     "output_type": "stream",
     "text": [
      "Create a 4-digit PIN:  1221\n",
      "Re-enter the PIN:  1221\n",
      "Enter initial deposit (minimum ₹1000):  1000\n"
     ]
    },
    {
     "name": "stdout",
     "output_type": "stream",
     "text": [
      " Card activated successfully! Balance: ₹1000.0\n"
     ]
    },
    {
     "name": "stdin",
     "output_type": "stream",
     "text": [
      "\n",
      "==============================\n",
      "Hello, welcome! What would you like to do?\n",
      "1. Change PIN\n",
      "2. Deposit Money\n",
      "3. Withdraw Money\n",
      "4. Check Balance\n",
      "5. View Last 10 Transactions\n",
      "6. Exit\n",
      "==============================\n",
      "Select an option (1-6):  6\n"
     ]
    },
    {
     "name": "stdout",
     "output_type": "stream",
     "text": [
      " Thank you for using the ATM! Goodbye.\n"
     ]
    }
   ],
   "source": [
    "class ATM:\n",
    "    def __init__(self):\n",
    "        self.name = \"\"\n",
    "        self.mobile = \"\"\n",
    "        self.pin = \"\"\n",
    "        self.balance = 0\n",
    "        self.transactions = []\n",
    "        self.activate_card()\n",
    "\n",
    "    \n",
    "    # CARD ACTIVATION\n",
    "    \n",
    "    def activate_card(self):\n",
    "        print(\"----- CARD ACTIVATION -----\")\n",
    "        self.name = input(\"Enter your full name: \")\n",
    "        self.mobile = input(\"Enter your 10-digit mobile number: \")\n",
    "        if len(self.mobile) != 10 or not self.mobile.isdigit():\n",
    "            print(\" Invalid mobile number. Try again.\")\n",
    "            return self.activate_card()\n",
    "\n",
    "        while True:\n",
    "            pin1 = input(\"Create your 4-digit PIN: \")\n",
    "            pin2 = input(\"Re-enter your PIN for verification: \")\n",
    "            if pin1 == pin2 and len(pin1) == 4 and pin1.isdigit():\n",
    "                self.pin = pin1\n",
    "                break\n",
    "            else:\n",
    "                print(\" PINs do not match or invalid format. Try again.\")\n",
    "\n",
    "        while True:\n",
    "            try:\n",
    "                deposit = int(input(\"Enter initial deposit (min ₹1000): \"))\n",
    "                if deposit >= 1000:\n",
    "                    self.balance += deposit\n",
    "                    self.transactions.append(f\"Initial Deposit ₹{deposit}\")\n",
    "                    print(\" Card activated successfully!\")\n",
    "                    break\n",
    "                else:\n",
    "                    print(\" Minimum ₹1000 required.\")\n",
    "            except ValueError:\n",
    "                print(\" Please enter a valid amount.\")\n",
    "\n",
    "        self.menu()\n",
    "\n",
    "    \n",
    "    # MAIN MENU\n",
    "    \n",
    "    def menu(self):\n",
    "        print(\"\\n----- ATM MAIN MENU -----\")\n",
    "        print(\"\"\"\n",
    "        1. Change PIN\n",
    "        2. Deposit Money\n",
    "        3. Withdraw Money\n",
    "        4. Check Balance\n",
    "        5. View Last 10 Transactions\n",
    "        6. Exit\n",
    "        \"\"\")\n",
    "        choice = input(\"Enter your choice: \")\n",
    "\n",
    "        if choice == '1':\n",
    "            self.change_pin()\n",
    "        elif choice == '2':\n",
    "            self.deposit_money()\n",
    "        elif choice == '3':\n",
    "            self.withdraw_money()\n",
    "        elif choice == '4':\n",
    "            self.check_balance()\n",
    "        elif choice == '5':\n",
    "            self.show_transactions()\n",
    "        elif choice == '6':\n",
    "            print(\" Thank you for using our ATM!\")\n",
    "            exit()\n",
    "        else:\n",
    "            print(\" Invalid choice. Try again.\")\n",
    "            self.menu()\n",
    "\n",
    "    \n",
    "    # CHANGE PIN\n",
    "    \n",
    "    def change_pin(self):\n",
    "        old_pin = input(\"Enter your current PIN: \")\n",
    "        if old_pin == self.pin:\n",
    "            new_pin = input(\"Enter new 4-digit PIN: \")\n",
    "            if len(new_pin) == 4 and new_pin.isdigit():\n",
    "                self.pin = new_pin\n",
    "                print(\" PIN updated successfully!\")\n",
    "            else:\n",
    "                print(\" Invalid PIN format.\")\n",
    "        else:\n",
    "            print(\" Incorrect current PIN.\")\n",
    "        self.menu()\n",
    "\n",
    "    \n",
    "    # DEPOSIT\n",
    "    \n",
    "    def deposit_money(self):\n",
    "        entered_pin = input(\"Enter your PIN to deposit money: \")\n",
    "        if entered_pin == self.pin:\n",
    "            try:\n",
    "                amount = int(input(\"Enter amount to deposit: \"))\n",
    "                if amount > 0:\n",
    "                    self.balance += amount\n",
    "                    self.transactions.append(f\"Deposited ₹{amount}\")\n",
    "                    print(f\" ₹{amount} deposited successfully.\")\n",
    "                else:\n",
    "                    print(\" Invalid amount.\")\n",
    "            except ValueError:\n",
    "                print(\" Please enter a number.\")\n",
    "        else:\n",
    "            print(\" Wrong PIN.\")\n",
    "        self.menu()\n",
    "\n",
    "    \n",
    "    # WITHDRAW\n",
    "    \n",
    "    def withdraw_money(self):\n",
    "        entered_pin = input(\"Enter your PIN to withdraw money: \")\n",
    "        if entered_pin == self.pin:\n",
    "            try:\n",
    "                amount = int(input(\"Enter amount to withdraw: \"))\n",
    "                charge = self.calculate_charge(amount)\n",
    "                total = amount + charge\n",
    "\n",
    "                if total <= self.balance:\n",
    "                    self.balance -= total\n",
    "                    self.transactions.append(f\"Withdraw ₹{amount} (Charge ₹{charge})\")\n",
    "                    print(f\" Withdrawn ₹{amount}, Transaction charge ₹{charge}\")\n",
    "                else:\n",
    "                    print(\" Insufficient balance.\")\n",
    "            except ValueError:\n",
    "                print(\" Invalid input.\")\n",
    "        else:\n",
    "            print(\" Wrong PIN.\")\n",
    "        self.menu()\n",
    "\n",
    "    \n",
    "    # CALCULATE TRANSACTION CHARGE\n",
    "    \n",
    "    def calculate_charge(self, amount):\n",
    "        if amount <= 1000:\n",
    "            return 0\n",
    "        elif amount <= 20000:\n",
    "            return 100\n",
    "        elif amount <= 100000:\n",
    "            return 1000\n",
    "        else:\n",
    "            return 2000\n",
    "\n",
    "    \n",
    "    # CHECK BALANCE\n",
    "    \n",
    "    def check_balance(self):\n",
    "        entered_pin = input(\"Enter your PIN to check balance: \")\n",
    "        if entered_pin == self.pin:\n",
    "            print(f\" Your current balance is ₹{self.balance}\")\n",
    "        else:\n",
    "            print(\" Wrong PIN.\")\n",
    "        self.menu()\n",
    "\n",
    "    \n",
    "    # SHOW TRANSACTION HISTORY\n",
    "    \n",
    "    def show_transactions(self):\n",
    "        print(\"----- LAST 10 TRANSACTIONS -----\")\n",
    "        if not self.transactions:\n",
    "            print(\"No transactions yet.\")\n",
    "        else:\n",
    "            for t in self.transactions[-10:]:\n",
    "                print(t)\n",
    "        self.menu()\n",
    "\n",
    "\n",
    "\n",
    "# RUN THE PROGRAM\n",
    "\n",
    "\n",
    "atm = ATM()\n"
   ]
  },
  {
   "cell_type": "code",
   "execution_count": null,
   "id": "0e31f8fc-7d2f-426b-9aeb-4430785f5b7e",
   "metadata": {},
   "outputs": [],
   "source": []
  }
 ],
 "metadata": {
  "kernelspec": {
   "display_name": "Python [conda env:base] *",
   "language": "python",
   "name": "conda-base-py"
  },
  "language_info": {
   "codemirror_mode": {
    "name": "ipython",
    "version": 3
   },
   "file_extension": ".py",
   "mimetype": "text/x-python",
   "name": "python",
   "nbconvert_exporter": "python",
   "pygments_lexer": "ipython3",
   "version": "3.12.7"
  }
 },
 "nbformat": 4,
 "nbformat_minor": 5
}
