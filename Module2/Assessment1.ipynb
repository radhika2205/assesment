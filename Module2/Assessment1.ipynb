{
 "cells": [
  {
   "cell_type": "code",
   "execution_count": 1,
   "id": "d71e8c18-7b0e-474c-9cfa-9153fdaff775",
   "metadata": {},
   "outputs": [],
   "source": [
    "# ATM\n",
    "\n",
    "class atm:\n",
    "\n",
    "    def __init__(self):\n",
    "        self.pin = ''\n",
    "        self.balance = 0\n",
    "        self.create_pin()\n",
    "\n",
    "    def menu(self):\n",
    "        user_input = input('''\n",
    "        Hello, welcome, How can I help you?\n",
    "        1. Press '1' to Change Pin\n",
    "        2. Press '2' to Withdraw Money\n",
    "        3. Press '3' to Check Balance\n",
    "        4. Press '4' to Deposit Money\n",
    "        5. Press '5' to Exit\n",
    "                           ''')\n",
    "        \n",
    "        if user_input == '1':\n",
    "            self.change_pin()\n",
    "        elif user_input == '2':\n",
    "            self.withdraw_money()\n",
    "        elif user_input == '3':\n",
    "            self.check_balance()\n",
    "        elif user_input == '4':\n",
    "            self.deposit_money()\n",
    "        elif user_input == '5':\n",
    "            print(\"Exiting the system... Thank you for using ATM!\")\n",
    "            exit()\n",
    "        else:\n",
    "            print(\"Invalid choice! Please try again.\")\n",
    "            self.menu()\n",
    "\n",
    "    def create_pin(self):\n",
    "        user_pin = input(\"Enter your pin for creation: \")\n",
    "        self.pin = user_pin\n",
    "        print(\"Your pin has been successfully created.\")\n",
    "        self.deposit_money()\n",
    "\n",
    "    def deposit_money(self):\n",
    "        user_pin = input(\"Enter your pin to deposit the money: \")\n",
    "        if user_pin == self.pin:\n",
    "            amt = int(input(\"Enter amount to deposit: \"))\n",
    "            self.balance += amt\n",
    "            print(f\"{amt} rs has been deposited successfully.\")\n",
    "            self.menu()\n",
    "        else:\n",
    "            print(\"Invalid pin\")\n",
    "            self.deposit_money()\n",
    "\n",
    "    def change_pin(self):\n",
    "        old_pin = input(\"Enter your existing pin: \")\n",
    "        if old_pin == self.pin:\n",
    "            new_pin = input(\"Enter your new pin: \")\n",
    "            self.pin = new_pin\n",
    "            print(\"Pin updated successfully\")\n",
    "            self.menu()\n",
    "        else:\n",
    "            print(\"Pin is incorrect\")\n",
    "            self.menu()\n",
    "    \n",
    "    def withdraw_money(self):\n",
    "        user_pin = input(\"Enter your pin to withdraw money: \")\n",
    "        if user_pin == self.pin:\n",
    "            amt = int(input(\"Enter amount to withdraw: \"))\n",
    "            if amt <= self.balance:\n",
    "                self.balance -= amt\n",
    "                print(\"Withdrawal successful\")\n",
    "                self.menu()\n",
    "            else:\n",
    "                print(\"Insufficient balance\")\n",
    "                self.withdraw_money()\n",
    "        else:\n",
    "            print(\"Pin is incorrect\")\n",
    "            self.menu() \n",
    "\n",
    "    def check_balance(self):\n",
    "        user_pin = input(\"Enter your pin to check balance: \")\n",
    "        if user_pin == self.pin:\n",
    "            print(f\"Your balance is {self.balance}\")\n",
    "            self.menu()\n",
    "        else:\n",
    "            print('Invalid pin')\n",
    "            self.menu()\n",
    "\n",
    "\n",
    
   ]
  },
  {
   "cell_type": "code",
   "execution_count": 2,
   "id": "155ad4d1-ce8c-49d3-9cb8-4eb47c6b7fc5",
   "metadata": {},
   "outputs": [
    {
     "name": "stdin",
     "output_type": "stream",
     "text": [
      "Enter your pin for creation:  23\n"
     ]
    },
    {
     "name": "stdout",
     "output_type": "stream",
     "text": [
      "Your pin has been successfully created.\n"
     ]
    },
    {
     "name": "stdin",
     "output_type": "stream",
     "text": [
      "Enter your pin to deposit the money:  23\n",
      "Enter amount to deposit:  200\n"
     ]
    },
    {
     "name": "stdout",
     "output_type": "stream",
     "text": [
      "200 rs has been deposited successfully.\n"
     ]
    },
    {
     "name": "stdin",
     "output_type": "stream",
     "text": [
      "\n",
      "        Hello, welcome, How can I help you?\n",
      "        1. Press '1' to Change Pin\n",
      "        2. Press '2' to Withdraw Money\n",
      "        3. Press '3' to Check Balance\n",
      "        4. Press '4' to Deposit Money\n",
      "        5. Press '5' to Exit\n",
      "                            2\n",
      "Enter your pin to withdraw money:  20\n"
     ]
    },
    {
     "name": "stdout",
     "output_type": "stream",
     "text": [
      "Pin is incorrect\n"
     ]
    },
    {
     "name": "stdin",
     "output_type": "stream",
     "text": [
      "\n",
      "        Hello, welcome, How can I help you?\n",
      "        1. Press '1' to Change Pin\n",
      "        2. Press '2' to Withdraw Money\n",
      "        3. Press '3' to Check Balance\n",
      "        4. Press '4' to Deposit Money\n",
      "        5. Press '5' to Exit\n",
      "                            2\n",
      "Enter your pin to withdraw money:  23\n",
      "Enter amount to withdraw:  20\n"
     ]
    },
    {
     "name": "stdout",
     "output_type": "stream",
     "text": [
      "Withdrawal successful\n"
     ]
    },
    {
     "name": "stdin",
     "output_type": "stream",
     "text": [
      "\n",
      "        Hello, welcome, How can I help you?\n",
      "        1. Press '1' to Change Pin\n",
      "        2. Press '2' to Withdraw Money\n",
      "        3. Press '3' to Check Balance\n",
      "        4. Press '4' to Deposit Money\n",
      "        5. Press '5' to Exit\n",
      "                            3\n",
      "Enter your pin to check balance:  23\n"
     ]
    },
    {
     "name": "stdout",
     "output_type": "stream",
     "text": [
      "Your balance is 180\n"
     ]
    },
    {
     "name": "stdin",
     "output_type": "stream",
     "text": [
      "\n",
      "        Hello, welcome, How can I help you?\n",
      "        1. Press '1' to Change Pin\n",
      "        2. Press '2' to Withdraw Money\n",
      "        3. Press '3' to Check Balance\n",
      "        4. Press '4' to Deposit Money\n",
      "        5. Press '5' to Exit\n",
      "                            4\n",
      "Enter your pin to deposit the money:  23\n",
      "Enter amount to deposit:  200\n"
     ]
    },
    {
     "name": "stdout",
     "output_type": "stream",
     "text": [
      "200 rs has been deposited successfully.\n"
     ]
    },
    {
     "name": "stdin",
     "output_type": "stream",
     "text": [
      "\n",
      "        Hello, welcome, How can I help you?\n",
      "        1. Press '1' to Change Pin\n",
      "        2. Press '2' to Withdraw Money\n",
      "        3. Press '3' to Check Balance\n",
      "        4. Press '4' to Deposit Money\n",
      "        5. Press '5' to Exit\n",
      "                            1\n",
      "Enter your existing pin:  23\n",
      "Enter your new pin:  34\n"
     ]
    },
    {
     "name": "stdout",
     "output_type": "stream",
     "text": [
      "Pin updated successfully\n"
     ]
    },
    {
     "name": "stdin",
     "output_type": "stream",
     "text": [
      "\n",
      "        Hello, welcome, How can I help you?\n",
      "        1. Press '1' to Change Pin\n",
      "        2. Press '2' to Withdraw Money\n",
      "        3. Press '3' to Check Balance\n",
      "        4. Press '4' to Deposit Money\n",
      "        5. Press '5' to Exit\n",
      "                            3\n",
      "Enter your pin to check balance:  34\n"
     ]
    },
    {
     "name": "stdout",
     "output_type": "stream",
     "text": [
      "Your balance is 380\n"
     ]
    },
    {
     "name": "stdin",
     "output_type": "stream",
     "text": [
      "\n",
      "        Hello, welcome, How can I help you?\n",
      "        1. Press '1' to Change Pin\n",
      "        2. Press '2' to Withdraw Money\n",
      "        3. Press '3' to Check Balance\n",
      "        4. Press '4' to Deposit Money\n",
      "        5. Press '5' to Exit\n",
      "                            5\n"
     ]
    },
    {
     "name": "stdout",
     "output_type": "stream",
     "text": [
      "Exiting the system... Thank you for using ATM!\n"
     ]
    },
    {
     "data": {
      "text/plain": [
       "<__main__.atm at 0x145f993c0e0>"
      ]
     },
     "execution_count": 2,
     "metadata": {},
     "output_type": "execute_result"
    }
   ],
   "source": [
    "atm() "
   ]
  },
  {
   "cell_type": "code",
   "execution_count": null,
   "id": "8a8786db-b41b-4265-a123-04dce27d14d1",
   "metadata": {},
   "outputs": [],
   "source": []
  }
 ],
 "metadata": {
  "kernelspec": {
   "display_name": "Python [conda env:base] *",
   "language": "python",
   "name": "conda-base-py"
  },
  "language_info": {
   "codemirror_mode": {
    "name": "ipython",
    "version": 3
   },
   "file_extension": ".py",
   "mimetype": "text/x-python",
   "name": "python",
   "nbconvert_exporter": "python",
   "pygments_lexer": "ipython3",
   "version": "3.12.7"
  }
 },
 "nbformat": 4,
 "nbformat_minor": 5
}
