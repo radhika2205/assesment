{
 "cells": [
  {
   "cell_type": "code",
   "execution_count": 2,
   "id": "ebb4520d-270a-4fe5-97f3-693d33445ea5",
   "metadata": {},
   "outputs": [],
   "source": [
    "# rastorant ordering system\n",
    "import random\n",
    "\n",
    "class RestaurantSystem:\n",
    "    def __init__(self):\n",
    "        self.menu_items = {\n",
    "            101: (\"Pizza\", 250),\n",
    "            102: (\"Burger\", 120),\n",
    "            103: (\"Pasta\", 180),\n",
    "            104: (\"Sandwich\", 100),\n",
    "            105: (\"Cold Drink\", 50)\n",
    "        }\n",
    "        self.orders = {}  # order_id -> {\"items\": [(name, price, qty)], \"total\": amount}\n",
    "        self.menu()\n",
    "\n",
    "    def menu(self):\n",
    "        print('''\n",
    "        ===== Restaurant Ordering System =====\n",
    "        1. Display Menu\n",
    "        2. Take Order\n",
    "        3. View Order\n",
    "        4. Cancel Order\n",
    "        5. Exit\n",
    "        ''')\n",
    "        choice = input(\"Enter your choice: \")\n",
    "\n",
    "        if choice == '1':\n",
    "            self.display_menu()\n",
    "        elif choice == '2':\n",
    "            self.take_order()\n",
    "        elif choice == '3':\n",
    "            self.view_order()\n",
    "        elif choice == '4':\n",
    "            self.cancel_order()\n",
    "        elif choice == '5':\n",
    "            print(\"Exiting the system... Thank you for visiting!\")\n",
    "            exit()\n",
    "        else:\n",
    "            print(\"Invalid choice! Please try again.\")\n",
    "            self.menu()\n",
    "\n",
    "    def display_menu(self):\n",
    "        print(\"\\n--- Menu ---\")\n",
    "        for code, (name, price) in self.menu_items.items():\n",
    "            print(f\"{code}: {name} - ₹{price}\")\n",
    "        print(\"------------\\n\")\n",
    "        self.menu()\n",
    "\n",
    "    def take_order(self):\n",
    "        order_items = []\n",
    "        total_price = 0\n",
    "\n",
    "        while True:\n",
    "            try:\n",
    "                item_code = int(input(\"Enter item code (0 to finish): \"))\n",
    "                if item_code == 0:\n",
    "                    break\n",
    "                if item_code not in self.menu_items:\n",
    "                    print(\"Invalid code! Try again.\")\n",
    "                    continue\n",
    "                qty = int(input(\"Enter quantity: \"))\n",
    "                if qty <= 0:\n",
    "                    print(\"Quantity must be positive!\")\n",
    "                    continue\n",
    "                name, price = self.menu_items[item_code]\n",
    "                order_items.append((name, price, qty))\n",
    "                total_price += price * qty\n",
    "                print(f\"Added {qty} x {name} to order.\")\n",
    "            except ValueError:\n",
    "                print(\"Invalid input! Please enter numbers only.\")\n",
    "        \n",
    "        if not order_items:\n",
    "            print(\"No items selected. Returning to main menu.\")\n",
    "            self.menu()\n",
    "            return\n",
    "\n",
    "        order_id = random.randint(1000, 9999)\n",
    "        self.orders[order_id] = {\"items\": order_items, \"total\": total_price}\n",
    "        print(f\"\\nOrder placed successfully! Your Order ID is {order_id}\")\n",
    "        print(f\"Total amount: ₹{total_price}\\n\")\n",
    "        self.menu()\n",
    "\n",
    "    def view_order(self):\n",
    "        try:\n",
    "            order_id = int(input(\"Enter your Order ID: \"))\n",
    "            if order_id not in self.orders:\n",
    "                print(\"Order not found!\")\n",
    "            else:\n",
    "                order = self.orders[order_id]\n",
    "                print(\"\\n--- Order Details ---\")\n",
    "                for name, price, qty in order[\"items\"]:\n",
    "                    print(f\"{name} - ₹{price} x {qty}\")\n",
    "                print(f\"Total Amount: ₹{order['total']}\")\n",
    "                print(\"----------------------\\n\")\n",
    "        except ValueError:\n",
    "            print(\"Invalid input! Please enter numbers only.\")\n",
    "        self.menu()\n",
    "\n",
    "    def cancel_order(self):\n",
    "        try:\n",
    "            order_id = int(input(\"Enter your Order ID to cancel: \"))\n",
    "            if order_id not in self.orders:\n",
    "                print(\"Order not found!\")\n",
    "            else:\n",
    "                confirm = input(\"Are you sure you want to cancel this order? (yes/no): \")\n",
    "                if confirm.lower() == 'yes':\n",
    "                    del self.orders[order_id]\n",
    "                    print(\"Order cancelled successfully.\")\n",
    "                else:\n",
    "                    print(\"Cancellation aborted.\")\n",
    "        except ValueError:\n",
    "            print(\"Invalid input! Please enter numbers only.\")\n",
    "        self.menu()\n",
    "\n",
    "\n",
    "# Run the system\n",
    "\n"
   ]
  },
  {
   "cell_type": "code",
   "execution_count": 3,
   "id": "eb172b6f-14c6-4fb3-b605-2d6be9a2372d",
   "metadata": {},
   "outputs": [
    {
     "name": "stdout",
     "output_type": "stream",
     "text": [
      "\n",
      "        ===== Restaurant Ordering System =====\n",
      "        1. Display Menu\n",
      "        2. Take Order\n",
      "        3. View Order\n",
      "        4. Cancel Order\n",
      "        5. Exit\n",
      "        \n"
     ]
    },
    {
     "name": "stdin",
     "output_type": "stream",
     "text": [
      "Enter your choice:  1\n"
     ]
    },
    {
     "name": "stdout",
     "output_type": "stream",
     "text": [
      "\n",
      "--- Menu ---\n",
      "101: Pizza - ₹250\n",
      "102: Burger - ₹120\n",
      "103: Pasta - ₹180\n",
      "104: Sandwich - ₹100\n",
      "105: Cold Drink - ₹50\n",
      "------------\n",
      "\n",
      "\n",
      "        ===== Restaurant Ordering System =====\n",
      "        1. Display Menu\n",
      "        2. Take Order\n",
      "        3. View Order\n",
      "        4. Cancel Order\n",
      "        5. Exit\n",
      "        \n"
     ]
    },
    {
     "name": "stdin",
     "output_type": "stream",
     "text": [
      "Enter your choice:  2\n",
      "Enter item code (0 to finish):  5\n"
     ]
    },
    {
     "name": "stdout",
     "output_type": "stream",
     "text": [
      "Invalid code! Try again.\n"
     ]
    },
    {
     "name": "stdin",
     "output_type": "stream",
     "text": [
      "Enter item code (0 to finish):  0\n"
     ]
    },
    {
     "name": "stdout",
     "output_type": "stream",
     "text": [
      "No items selected. Returning to main menu.\n",
      "\n",
      "        ===== Restaurant Ordering System =====\n",
      "        1. Display Menu\n",
      "        2. Take Order\n",
      "        3. View Order\n",
      "        4. Cancel Order\n",
      "        5. Exit\n",
      "        \n"
     ]
    },
    {
     "name": "stdin",
     "output_type": "stream",
     "text": [
      "Enter your choice:  4\n",
      "Enter your Order ID to cancel:  0\n"
     ]
    },
    {
     "name": "stdout",
     "output_type": "stream",
     "text": [
      "Order not found!\n",
      "\n",
      "        ===== Restaurant Ordering System =====\n",
      "        1. Display Menu\n",
      "        2. Take Order\n",
      "        3. View Order\n",
      "        4. Cancel Order\n",
      "        5. Exit\n",
      "        \n"
     ]
    },
    {
     "name": "stdin",
     "output_type": "stream",
     "text": [
      "Enter your choice:  5\n"
     ]
    },
    {
     "name": "stdout",
     "output_type": "stream",
     "text": [
      "Exiting the system... Thank you for visiting!\n"
     ]
    },
    {
     "data": {
      "text/plain": [
       "<__main__.RestaurantSystem at 0x23ef98c4e30>"
      ]
     },
     "execution_count": 3,
     "metadata": {},
     "output_type": "execute_result"
    }
   ],
   "source": [
    "RestaurantSystem()"
   ]
  },
  {
   "cell_type": "code",
   "execution_count": null,
   "id": "e2a4953f-c3d3-49d4-8f41-09f2f12417c0",
   "metadata": {},
   "outputs": [],
   "source": []
  }
 ],
 "metadata": {
  "kernelspec": {
   "display_name": "Python [conda env:base] *",
   "language": "python",
   "name": "conda-base-py"
  },
  "language_info": {
   "codemirror_mode": {
    "name": "ipython",
    "version": 3
   },
   "file_extension": ".py",
   "mimetype": "text/x-python",
   "name": "python",
   "nbconvert_exporter": "python",
   "pygments_lexer": "ipython3",
   "version": "3.12.7"
  }
 },
 "nbformat": 4,
 "nbformat_minor": 5
}
